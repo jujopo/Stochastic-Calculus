{
 "cells": [
  {
   "cell_type": "markdown",
   "id": "51afdbcf",
   "metadata": {},
   "source": [
    "# Stochastic Calculus"
   ]
  },
  {
   "cell_type": "markdown",
   "id": "ba39e485",
   "metadata": {},
   "source": [
    "> The development of stochastic calculus, and in particular of Itô calculus based\n",
    "on Brownian motion, is one of the great achievements of twentieth-century probability.— Louis Pierre"
   ]
  },
  {
   "cell_type": "markdown",
   "id": "568aa883",
   "metadata": {},
   "source": [
    "# Chapter 1. Notions of probability"
   ]
  },
  {
   "cell_type": "markdown",
   "id": "bb0a240f",
   "metadata": {},
   "source": [
    "<center><em>Trust only those who doubt</em></center>"
   ]
  },
  {
   "cell_type": "markdown",
   "id": "3d9f3497",
   "metadata": {},
   "source": [
    "## 1.1 Probability Space"
   ]
  },
  {
   "cell_type": "markdown",
   "id": "324b813b",
   "metadata": {},
   "source": [
    "Probability theory provides a framework to study random experiments, those random experiments involve a source of randomness. We call the set of all possible outcomes of a random experiment the _sample space_ and we denote it by $\\Omega$. We represent an outcome of the random experiment by $\\omega$. An _event_ is a subset of $\\Omega$. Note that the empty set $\\emptyset$ and $\\Omega$ are subsets of $\\Omega$ and hence are events. \n",
    "\n",
    "**Example 1.1** For the random experiment consisting of generating an ordered pair of 0's and 2's, the sample space is\n",
    "\n",
    "$$ \\Omega = \\{(0,0),(0,2),(2,0),(2,2)\\} $$\n",
    "\n",
    "An example of an event $A=\\{(2,0),(2,2)\\}$, that is, the set of outcomes whose first number is 2. Note that $\\Omega$ can also be written as $\\{0,2\\}\\times \\{2,0\\}$ where $\\times$ is the Cartesian product"
   ]
  },
  {
   "cell_type": "markdown",
   "id": "6c86c180",
   "metadata": {},
   "source": [
    "## 1.2 Random Variables and Their Distributions"
   ]
  },
  {
   "cell_type": "markdown",
   "id": "19982cc7",
   "metadata": {},
   "source": [
    "A _random variable_ $X$ is a function from a sample space $\\Omega$ taking values in $\\mathbb{R}$ "
   ]
  },
  {
   "cell_type": "markdown",
   "id": "1234a141",
   "metadata": {},
   "source": []
  }
 ],
 "metadata": {
  "kernelspec": {
   "display_name": "Python 3",
   "language": "python",
   "name": "python3"
  },
  "language_info": {
   "codemirror_mode": {
    "name": "ipython",
    "version": 3
   },
   "file_extension": ".py",
   "mimetype": "text/x-python",
   "name": "python",
   "nbconvert_exporter": "python",
   "pygments_lexer": "ipython3",
   "version": "3.13.2"
  }
 },
 "nbformat": 4,
 "nbformat_minor": 5
}
